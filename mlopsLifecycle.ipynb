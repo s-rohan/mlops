{
 "cells": [
  {
   "cell_type": "raw",
   "id": "c80fac57-dcff-41ad-a67e-fc31a00242e2",
   "metadata": {
    "vscode": {
     "languageId": "raw"
    }
   },
   "source": [
    "##  Model Life cycle Demo  with FreeAccount\n",
    "Please Allow following permissions to your account\n",
    " \"ecr:GetAuthorizationToken\"\n",
    "        \"ecr:BatchCheckLayerAvailability\",\n",
    "        \"ecr:GetDownloadUrlForLayer\",\n",
    "        \"ecr:BatchGetImage\",\n",
    "\t\"servicequotas:ListServiceQuotas\"\n",
    "\n",
    "\n",
    "\n",
    "1. DataSet Preparation\n",
    "2. Train an model from public ecr image XGBoost classifier for customer churn prediction, using a managed job with SageMaker Training\n",
    "3. Perform hyperparameter tuning to find optimal set of hyperparameters, using a managed job with SageMaker HyperParameter Tuning\n",
    "5. Test if Account has resources to perform batch inference using a managed SageMaker Batch Transform job.\n",
    "7. Create a managed real-time SageMaker endpoint.\n",
    "8. Use Endpoint to perform Batch inference and capture performace metrics.\n",
    "9.All these steps can be broken into multiple jobs/classes .\n",
    "\n"
   ]
  },
  {
   "cell_type": "code",
   "execution_count": 1,
   "id": "0489c209-9628-4ddf-a849-8b973234126a",
   "metadata": {
    "execution": {
     "iopub.execute_input": "2025-06-18T21:36:48.503239Z",
     "iopub.status.busy": "2025-06-18T21:36:48.502948Z",
     "iopub.status.idle": "2025-06-18T21:36:51.481301Z",
     "shell.execute_reply": "2025-06-18T21:36:51.480676Z",
     "shell.execute_reply.started": "2025-06-18T21:36:48.503209Z"
    }
   },
   "outputs": [
    {
     "name": "stdout",
     "output_type": "stream",
     "text": [
      "Note: you may need to restart the kernel to use updated packages.\n",
      "Note: you may need to restart the kernel to use updated packages.\n"
     ]
    }
   ],
   "source": [
    "%pip install --upgrade pip -q\n",
    "%pip install sagemaker-core -q"
   ]
  },
  {
   "cell_type": "code",
   "execution_count": 2,
   "id": "314d959f-8c4a-4996-b167-24958d53417a",
   "metadata": {
    "execution": {
     "iopub.execute_input": "2025-06-18T21:36:51.482862Z",
     "iopub.status.busy": "2025-06-18T21:36:51.482231Z",
     "iopub.status.idle": "2025-06-18T21:36:53.799424Z",
     "shell.execute_reply": "2025-06-18T21:36:53.798865Z",
     "shell.execute_reply.started": "2025-06-18T21:36:51.482834Z"
    }
   },
   "outputs": [
    {
     "name": "stdout",
     "output_type": "stream",
     "text": [
      "sagemaker.config INFO - Not applying SDK defaults from location: /etc/xdg/sagemaker/config.yaml\n",
      "sagemaker.config INFO - Not applying SDK defaults from location: /home/sagemaker-user/.config/sagemaker/config.yaml\n",
      "AWS region: us-east-2\n",
      "Execution role: arn:aws:iam::537275484150:role/service-role/AmazonSageMaker-ExecutionRole-20250614T160657\n",
      "Default S3 bucket: sagemaker-us-east-2-537275484150\n",
      "Default S3 bucket prefix: sagemaker-us-east-2-537275484150\n"
     ]
    }
   ],
   "source": [
    "import time\n",
    "import sagemaker\n",
    "\n",
    "from sagemaker_core.helper.session_helper import Session, get_execution_role\n",
    "\n",
    "# Set up region, role and bucket parameters used throughout the notebook.\n",
    "sagemaker_session = Session()\n",
    "region = sagemaker_session.boto_region_name\n",
    "role = get_execution_role()\n",
    "bucket = sagemaker.Session().default_bucket()\n",
    "default_bucket_prefix = bucket\n",
    "\n",
    "print(f\"AWS region: {region}\")\n",
    "print(f\"Execution role: {role}\")\n",
    "print(f\"Default S3 bucket: {bucket}\")\n",
    "print(f\"Default S3 bucket prefix: {default_bucket_prefix}\")"
   ]
  },
  {
   "cell_type": "markdown",
   "id": "93b62649-4d89-4b6e-9f18-a48aa0bb27a4",
   "metadata": {},
   "source": [
    "## Preprocess dataset\n",
    "We'll use a synthetic dataset that AWS provides for customer churn prediction.\n"
   ]
  },
  {
   "cell_type": "markdown",
   "id": "f347ca27-68a3-41a1-998c-434d39f8245a",
   "metadata": {},
   "source": [
    "<div class=\"alert alert-block alert-info\">\n",
    "<b>NOTE:</b> This sample doesn't perform any exploratory data anlysis since how to preprocess the dataset is already known.\n",
    "    \n",
    "If you're interested in how to perform exploratory analysis, there's a section in the documentation for the sagemaker-python-sdk available that explores the dataset, [here](https://sagemaker-examples.readthedocs.io/en/latest/introduction_to_applying_machine_learning/xgboost_customer_churn/xgboost_customer_churn.html).\n",
    "</div>"
   ]
  },
  {
   "cell_type": "markdown",
   "id": "38f74911-14c9-4ef8-bd18-db9664de7dcf",
   "metadata": {},
   "source": [
    "#### Read the data from S3"
   ]
  },
  {
   "cell_type": "code",
   "execution_count": 3,
   "id": "53c16f79-f58f-412f-8716-c62179a270e5",
   "metadata": {
    "execution": {
     "iopub.execute_input": "2025-06-18T21:36:53.806755Z",
     "iopub.status.busy": "2025-06-18T21:36:53.806315Z",
     "iopub.status.idle": "2025-06-18T21:36:53.976500Z",
     "shell.execute_reply": "2025-06-18T21:36:53.975894Z",
     "shell.execute_reply.started": "2025-06-18T21:36:53.806725Z"
    }
   },
   "outputs": [
    {
     "data": {
      "text/html": [
       "<div>\n",
       "<style scoped>\n",
       "    .dataframe tbody tr th:only-of-type {\n",
       "        vertical-align: middle;\n",
       "    }\n",
       "\n",
       "    .dataframe tbody tr th {\n",
       "        vertical-align: top;\n",
       "    }\n",
       "\n",
       "    .dataframe thead th {\n",
       "        text-align: right;\n",
       "    }\n",
       "</style>\n",
       "<table border=\"1\" class=\"dataframe\">\n",
       "  <thead>\n",
       "    <tr style=\"text-align: right;\">\n",
       "      <th></th>\n",
       "      <th>State</th>\n",
       "      <th>Account Length</th>\n",
       "      <th>Area Code</th>\n",
       "      <th>Phone</th>\n",
       "      <th>Int'l Plan</th>\n",
       "      <th>VMail Plan</th>\n",
       "      <th>VMail Message</th>\n",
       "      <th>Day Mins</th>\n",
       "      <th>Day Calls</th>\n",
       "      <th>Day Charge</th>\n",
       "      <th>...</th>\n",
       "      <th>Eve Calls</th>\n",
       "      <th>Eve Charge</th>\n",
       "      <th>Night Mins</th>\n",
       "      <th>Night Calls</th>\n",
       "      <th>Night Charge</th>\n",
       "      <th>Intl Mins</th>\n",
       "      <th>Intl Calls</th>\n",
       "      <th>Intl Charge</th>\n",
       "      <th>CustServ Calls</th>\n",
       "      <th>Churn?</th>\n",
       "    </tr>\n",
       "  </thead>\n",
       "  <tbody>\n",
       "    <tr>\n",
       "      <th>0</th>\n",
       "      <td>PA</td>\n",
       "      <td>163</td>\n",
       "      <td>806</td>\n",
       "      <td>403-2562</td>\n",
       "      <td>no</td>\n",
       "      <td>yes</td>\n",
       "      <td>300</td>\n",
       "      <td>8.162204</td>\n",
       "      <td>3</td>\n",
       "      <td>7.579174</td>\n",
       "      <td>...</td>\n",
       "      <td>4</td>\n",
       "      <td>6.508639</td>\n",
       "      <td>4.065759</td>\n",
       "      <td>100</td>\n",
       "      <td>5.111624</td>\n",
       "      <td>4.928160</td>\n",
       "      <td>6</td>\n",
       "      <td>5.673203</td>\n",
       "      <td>3</td>\n",
       "      <td>True.</td>\n",
       "    </tr>\n",
       "    <tr>\n",
       "      <th>1</th>\n",
       "      <td>SC</td>\n",
       "      <td>15</td>\n",
       "      <td>836</td>\n",
       "      <td>158-8416</td>\n",
       "      <td>yes</td>\n",
       "      <td>no</td>\n",
       "      <td>0</td>\n",
       "      <td>10.018993</td>\n",
       "      <td>4</td>\n",
       "      <td>4.226289</td>\n",
       "      <td>...</td>\n",
       "      <td>0</td>\n",
       "      <td>9.972592</td>\n",
       "      <td>7.141040</td>\n",
       "      <td>200</td>\n",
       "      <td>6.436188</td>\n",
       "      <td>3.221748</td>\n",
       "      <td>6</td>\n",
       "      <td>2.559749</td>\n",
       "      <td>8</td>\n",
       "      <td>False.</td>\n",
       "    </tr>\n",
       "    <tr>\n",
       "      <th>2</th>\n",
       "      <td>MO</td>\n",
       "      <td>131</td>\n",
       "      <td>777</td>\n",
       "      <td>896-6253</td>\n",
       "      <td>no</td>\n",
       "      <td>yes</td>\n",
       "      <td>300</td>\n",
       "      <td>4.708490</td>\n",
       "      <td>3</td>\n",
       "      <td>4.768160</td>\n",
       "      <td>...</td>\n",
       "      <td>3</td>\n",
       "      <td>4.566715</td>\n",
       "      <td>5.363235</td>\n",
       "      <td>100</td>\n",
       "      <td>5.142451</td>\n",
       "      <td>7.139023</td>\n",
       "      <td>2</td>\n",
       "      <td>6.254157</td>\n",
       "      <td>4</td>\n",
       "      <td>False.</td>\n",
       "    </tr>\n",
       "    <tr>\n",
       "      <th>3</th>\n",
       "      <td>WY</td>\n",
       "      <td>75</td>\n",
       "      <td>878</td>\n",
       "      <td>817-5729</td>\n",
       "      <td>yes</td>\n",
       "      <td>yes</td>\n",
       "      <td>700</td>\n",
       "      <td>1.268734</td>\n",
       "      <td>3</td>\n",
       "      <td>2.567642</td>\n",
       "      <td>...</td>\n",
       "      <td>5</td>\n",
       "      <td>2.333624</td>\n",
       "      <td>3.773586</td>\n",
       "      <td>450</td>\n",
       "      <td>3.814413</td>\n",
       "      <td>2.245779</td>\n",
       "      <td>6</td>\n",
       "      <td>1.080692</td>\n",
       "      <td>6</td>\n",
       "      <td>False.</td>\n",
       "    </tr>\n",
       "    <tr>\n",
       "      <th>4</th>\n",
       "      <td>WY</td>\n",
       "      <td>146</td>\n",
       "      <td>878</td>\n",
       "      <td>450-4942</td>\n",
       "      <td>yes</td>\n",
       "      <td>no</td>\n",
       "      <td>0</td>\n",
       "      <td>2.696177</td>\n",
       "      <td>3</td>\n",
       "      <td>5.908916</td>\n",
       "      <td>...</td>\n",
       "      <td>3</td>\n",
       "      <td>3.670408</td>\n",
       "      <td>3.751673</td>\n",
       "      <td>250</td>\n",
       "      <td>2.796812</td>\n",
       "      <td>6.905545</td>\n",
       "      <td>4</td>\n",
       "      <td>7.134343</td>\n",
       "      <td>6</td>\n",
       "      <td>True.</td>\n",
       "    </tr>\n",
       "    <tr>\n",
       "      <th>...</th>\n",
       "      <td>...</td>\n",
       "      <td>...</td>\n",
       "      <td>...</td>\n",
       "      <td>...</td>\n",
       "      <td>...</td>\n",
       "      <td>...</td>\n",
       "      <td>...</td>\n",
       "      <td>...</td>\n",
       "      <td>...</td>\n",
       "      <td>...</td>\n",
       "      <td>...</td>\n",
       "      <td>...</td>\n",
       "      <td>...</td>\n",
       "      <td>...</td>\n",
       "      <td>...</td>\n",
       "      <td>...</td>\n",
       "      <td>...</td>\n",
       "      <td>...</td>\n",
       "      <td>...</td>\n",
       "      <td>...</td>\n",
       "      <td>...</td>\n",
       "    </tr>\n",
       "    <tr>\n",
       "      <th>4995</th>\n",
       "      <td>NH</td>\n",
       "      <td>4</td>\n",
       "      <td>787</td>\n",
       "      <td>151-3162</td>\n",
       "      <td>yes</td>\n",
       "      <td>yes</td>\n",
       "      <td>800</td>\n",
       "      <td>10.862632</td>\n",
       "      <td>5</td>\n",
       "      <td>7.250969</td>\n",
       "      <td>...</td>\n",
       "      <td>1</td>\n",
       "      <td>8.026482</td>\n",
       "      <td>4.921314</td>\n",
       "      <td>350</td>\n",
       "      <td>6.748489</td>\n",
       "      <td>4.872570</td>\n",
       "      <td>8</td>\n",
       "      <td>2.122530</td>\n",
       "      <td>9</td>\n",
       "      <td>False.</td>\n",
       "    </tr>\n",
       "    <tr>\n",
       "      <th>4996</th>\n",
       "      <td>SD</td>\n",
       "      <td>140</td>\n",
       "      <td>836</td>\n",
       "      <td>351-5993</td>\n",
       "      <td>no</td>\n",
       "      <td>no</td>\n",
       "      <td>0</td>\n",
       "      <td>1.581127</td>\n",
       "      <td>8</td>\n",
       "      <td>3.758307</td>\n",
       "      <td>...</td>\n",
       "      <td>7</td>\n",
       "      <td>1.328827</td>\n",
       "      <td>0.939932</td>\n",
       "      <td>300</td>\n",
       "      <td>4.522661</td>\n",
       "      <td>6.938571</td>\n",
       "      <td>2</td>\n",
       "      <td>4.600473</td>\n",
       "      <td>4</td>\n",
       "      <td>False.</td>\n",
       "    </tr>\n",
       "    <tr>\n",
       "      <th>4997</th>\n",
       "      <td>SC</td>\n",
       "      <td>32</td>\n",
       "      <td>836</td>\n",
       "      <td>370-3127</td>\n",
       "      <td>no</td>\n",
       "      <td>yes</td>\n",
       "      <td>700</td>\n",
       "      <td>0.163836</td>\n",
       "      <td>5</td>\n",
       "      <td>4.243980</td>\n",
       "      <td>...</td>\n",
       "      <td>3</td>\n",
       "      <td>2.340554</td>\n",
       "      <td>0.939469</td>\n",
       "      <td>450</td>\n",
       "      <td>5.157898</td>\n",
       "      <td>4.388328</td>\n",
       "      <td>7</td>\n",
       "      <td>1.060340</td>\n",
       "      <td>6</td>\n",
       "      <td>False.</td>\n",
       "    </tr>\n",
       "    <tr>\n",
       "      <th>4998</th>\n",
       "      <td>MA</td>\n",
       "      <td>142</td>\n",
       "      <td>776</td>\n",
       "      <td>604-2108</td>\n",
       "      <td>yes</td>\n",
       "      <td>yes</td>\n",
       "      <td>600</td>\n",
       "      <td>2.034454</td>\n",
       "      <td>5</td>\n",
       "      <td>3.014859</td>\n",
       "      <td>...</td>\n",
       "      <td>3</td>\n",
       "      <td>3.470372</td>\n",
       "      <td>6.076043</td>\n",
       "      <td>150</td>\n",
       "      <td>4.362780</td>\n",
       "      <td>7.173376</td>\n",
       "      <td>3</td>\n",
       "      <td>4.871900</td>\n",
       "      <td>7</td>\n",
       "      <td>True.</td>\n",
       "    </tr>\n",
       "    <tr>\n",
       "      <th>4999</th>\n",
       "      <td>AL</td>\n",
       "      <td>141</td>\n",
       "      <td>657</td>\n",
       "      <td>294-2849</td>\n",
       "      <td>yes</td>\n",
       "      <td>yes</td>\n",
       "      <td>500</td>\n",
       "      <td>1.803907</td>\n",
       "      <td>0</td>\n",
       "      <td>5.125716</td>\n",
       "      <td>...</td>\n",
       "      <td>0</td>\n",
       "      <td>2.109823</td>\n",
       "      <td>2.624299</td>\n",
       "      <td>400</td>\n",
       "      <td>3.713631</td>\n",
       "      <td>5.798783</td>\n",
       "      <td>6</td>\n",
       "      <td>5.485345</td>\n",
       "      <td>7</td>\n",
       "      <td>False.</td>\n",
       "    </tr>\n",
       "  </tbody>\n",
       "</table>\n",
       "<p>5000 rows × 21 columns</p>\n",
       "</div>"
      ],
      "text/plain": [
       "     State  Account Length  Area Code     Phone Int'l Plan VMail Plan  \\\n",
       "0       PA             163        806  403-2562         no        yes   \n",
       "1       SC              15        836  158-8416        yes         no   \n",
       "2       MO             131        777  896-6253         no        yes   \n",
       "3       WY              75        878  817-5729        yes        yes   \n",
       "4       WY             146        878  450-4942        yes         no   \n",
       "...    ...             ...        ...       ...        ...        ...   \n",
       "4995    NH               4        787  151-3162        yes        yes   \n",
       "4996    SD             140        836  351-5993         no         no   \n",
       "4997    SC              32        836  370-3127         no        yes   \n",
       "4998    MA             142        776  604-2108        yes        yes   \n",
       "4999    AL             141        657  294-2849        yes        yes   \n",
       "\n",
       "      VMail Message   Day Mins  Day Calls  Day Charge  ...  Eve Calls  \\\n",
       "0               300   8.162204          3    7.579174  ...          4   \n",
       "1                 0  10.018993          4    4.226289  ...          0   \n",
       "2               300   4.708490          3    4.768160  ...          3   \n",
       "3               700   1.268734          3    2.567642  ...          5   \n",
       "4                 0   2.696177          3    5.908916  ...          3   \n",
       "...             ...        ...        ...         ...  ...        ...   \n",
       "4995            800  10.862632          5    7.250969  ...          1   \n",
       "4996              0   1.581127          8    3.758307  ...          7   \n",
       "4997            700   0.163836          5    4.243980  ...          3   \n",
       "4998            600   2.034454          5    3.014859  ...          3   \n",
       "4999            500   1.803907          0    5.125716  ...          0   \n",
       "\n",
       "      Eve Charge  Night Mins  Night Calls  Night Charge  Intl Mins  \\\n",
       "0       6.508639    4.065759          100      5.111624   4.928160   \n",
       "1       9.972592    7.141040          200      6.436188   3.221748   \n",
       "2       4.566715    5.363235          100      5.142451   7.139023   \n",
       "3       2.333624    3.773586          450      3.814413   2.245779   \n",
       "4       3.670408    3.751673          250      2.796812   6.905545   \n",
       "...          ...         ...          ...           ...        ...   \n",
       "4995    8.026482    4.921314          350      6.748489   4.872570   \n",
       "4996    1.328827    0.939932          300      4.522661   6.938571   \n",
       "4997    2.340554    0.939469          450      5.157898   4.388328   \n",
       "4998    3.470372    6.076043          150      4.362780   7.173376   \n",
       "4999    2.109823    2.624299          400      3.713631   5.798783   \n",
       "\n",
       "      Intl Calls  Intl Charge  CustServ Calls  Churn?  \n",
       "0              6     5.673203               3   True.  \n",
       "1              6     2.559749               8  False.  \n",
       "2              2     6.254157               4  False.  \n",
       "3              6     1.080692               6  False.  \n",
       "4              4     7.134343               6   True.  \n",
       "...          ...          ...             ...     ...  \n",
       "4995           8     2.122530               9  False.  \n",
       "4996           2     4.600473               4  False.  \n",
       "4997           7     1.060340               6  False.  \n",
       "4998           3     4.871900               7   True.  \n",
       "4999           6     5.485345               7  False.  \n",
       "\n",
       "[5000 rows x 21 columns]"
      ]
     },
     "execution_count": 3,
     "metadata": {},
     "output_type": "execute_result"
    }
   ],
   "source": [
    "from io import StringIO\n",
    "import pandas as pd\n",
    "\n",
    "data = sagemaker_session.read_s3_file(\n",
    "    f\"sagemaker-example-files-prod-{region}\", \"datasets/tabular/synthetic/churn.txt\"\n",
    ")\n",
    "\n",
    "df = pd.read_csv(StringIO(data))\n",
    "df"
   ]
  },
  {
   "cell_type": "markdown",
   "id": "2e00d8db-e6c8-4233-8437-8c2076895416",
   "metadata": {},
   "source": [
    "#### Apply processing"
   ]
  },
  {
   "cell_type": "code",
   "execution_count": 4,
   "id": "de3d40e5-6d29-443e-98b1-8629ce106cac",
   "metadata": {
    "execution": {
     "iopub.execute_input": "2025-06-18T21:36:53.979724Z",
     "iopub.status.busy": "2025-06-18T21:36:53.979494Z",
     "iopub.status.idle": "2025-06-18T21:36:55.111770Z",
     "shell.execute_reply": "2025-06-18T21:36:55.111120Z",
     "shell.execute_reply.started": "2025-06-18T21:36:53.979690Z"
    }
   },
   "outputs": [
    {
     "name": "stdout",
     "output_type": "stream",
     "text": [
      "Datasets uploaded to:\n",
      "s3://sagemaker-us-east-2-537275484150/sagemaker-us-east-2-537275484150/train.csv\n",
      "s3://sagemaker-us-east-2-537275484150/sagemaker-us-east-2-537275484150/validation.csv\n",
      "s3://sagemaker-us-east-2-537275484150/sagemaker-us-east-2-537275484150/test.csv\n",
      "s3://sagemaker-us-east-2-537275484150/sagemaker-us-east-2-537275484150/test_output.csv\n"
     ]
    }
   ],
   "source": [
    "from sklearn.model_selection import train_test_split\n",
    "\n",
    "# Phone number is unique - will not add value to classifier\n",
    "df = df.drop(\"Phone\", axis=1)\n",
    "\n",
    "# Cast Area Code to non-numeric\n",
    "df[\"Area Code\"] = df[\"Area Code\"].astype(object)\n",
    "\n",
    "# Remove one feature from highly corelated pairs\n",
    "df = df.drop([\"Day Charge\", \"Eve Charge\", \"Night Charge\", \"Intl Charge\"], axis=1)\n",
    "\n",
    "# One-hot encode catagorical features into numeric features\n",
    "model_data = pd.get_dummies(df)\n",
    "model_data = pd.concat(\n",
    "    [\n",
    "        model_data[\"Churn?_True.\"],\n",
    "        model_data.drop([\"Churn?_False.\", \"Churn?_True.\"], axis=1),\n",
    "    ],\n",
    "    axis=1,\n",
    ")\n",
    "model_data = model_data.astype(float)\n",
    "\n",
    "# Split data into train and validation datasets\n",
    "train_data, validation_data = train_test_split(model_data, test_size=0.33, random_state=42)\n",
    "\n",
    "# Further split the validation dataset into test and validation datasets.\n",
    "validation_data, test_data = train_test_split(validation_data, test_size=0.33, random_state=42)\n",
    "\n",
    "# Remove and store the target column for the test data. This is used for calculating performance metrics after training, on unseen data.\n",
    "test_target_column = test_data[\"Churn?_True.\"]\n",
    "test_data.drop([\"Churn?_True.\"], axis=1, inplace=True)\n",
    "\n",
    "# Store all datasets locally\n",
    "train_data.to_csv(\"train.csv\", header=False, index=False)\n",
    "validation_data.to_csv(\"validation.csv\", header=False, index=False)\n",
    "test_data.to_csv(\"test.csv\", header=False, index=False)\n",
    "test_target_column.to_csv(\"test_output.csv\", header=False, index=False)\n",
    "\n",
    "# Upload each dataset to S3\n",
    "# If a default bucket prefix is specified, append it to the s3 path\n",
    "if default_bucket_prefix:\n",
    "    s3_train_input = sagemaker_session.upload_data(\n",
    "        \"train.csv\", bucket, key_prefix=default_bucket_prefix\n",
    "    )\n",
    "    s3_validation_input = sagemaker_session.upload_data(\n",
    "        \"validation.csv\", bucket, key_prefix=default_bucket_prefix\n",
    "    )\n",
    "    s3_test_input = sagemaker_session.upload_data(\n",
    "        \"test.csv\", bucket, key_prefix=default_bucket_prefix\n",
    "    )\n",
    "    s3_test_input_output = sagemaker_session.upload_data(\n",
    "        \"test_output.csv\", bucket, key_prefix=default_bucket_prefix\n",
    "    )\n",
    "    \n",
    "else:\n",
    "    s3_train_input = sagemaker_session.upload_data(\"train.csv\", bucket)\n",
    "    s3_validation_input = sagemaker_session.upload_data(\"validation.csv\", bucket)\n",
    "    s3_test_input = sagemaker_session.upload_data(\"test.csv\", bucket)\n",
    "    s3_test_input_output = sagemaker_session.upload_data(\n",
    "        \"test_output.csv\", bucket)\n",
    "    \n",
    "\n",
    "print(\"Datasets uploaded to:\")\n",
    "print(s3_train_input)\n",
    "print(s3_validation_input)\n",
    "print(s3_test_input)\n",
    "print(s3_test_input_output)"
   ]
  },
  {
   "cell_type": "markdown",
   "id": "5d8c4139-244d-4827-b872-35fbeed664d8",
   "metadata": {},
   "source": [
    "## Train a classifier using XGBoost\n",
    "Use SageMaker Training and the managed XGBoost image to train a classifier. <br />\n",
    "More details on how to use SageMaker managed training with XGBoost can be found [here](https://docs.aws.amazon.com/sagemaker/latest/dg/xgboost.html)."
   ]
  },
  {
   "cell_type": "markdown",
   "id": "bbbf270c-20c0-4f82-a8a6-c2794ba57f70",
   "metadata": {},
   "source": [
    "<div class=\"alert alert-block alert-info\">\n",
    "  <b>NOTE:</b> For more information on using SageMaker managed container images and retrieving their ECR paths, \n",
    "  <a href=\"https://docs.aws.amazon.com/sagemaker/latest/dg-ecr-paths/sagemaker-algo-docker-registry-paths.html\" target=\"_blank\">here</a> \n",
    "  is the documentation. Please note that the image URI might need to be updated based on your selected AWS region.\n",
    "</div>\n"
   ]
  },
  {
   "cell_type": "code",
   "execution_count": 5,
   "id": "268583f2-2c20-401b-a57c-ee88fd402583",
   "metadata": {
    "execution": {
     "iopub.execute_input": "2025-06-18T21:36:55.119028Z",
     "iopub.status.busy": "2025-06-18T21:36:55.118838Z",
     "iopub.status.idle": "2025-06-18T21:36:55.122433Z",
     "shell.execute_reply": "2025-06-18T21:36:55.121873Z",
     "shell.execute_reply.started": "2025-06-18T21:36:55.119008Z"
    }
   },
   "outputs": [],
   "source": [
    "image = \"141502667606.dkr.ecr.us-east-2.amazonaws.com/sagemaker-xgboost:1.7-1\""
   ]
  },
  {
   "cell_type": "code",
   "execution_count": 6,
   "id": "cfdeee81-20b5-4735-8f61-dd95bf0f9308",
   "metadata": {
    "execution": {
     "iopub.execute_input": "2025-06-18T21:36:55.123329Z",
     "iopub.status.busy": "2025-06-18T21:36:55.123138Z",
     "iopub.status.idle": "2025-06-18T21:36:55.144852Z",
     "shell.execute_reply": "2025-06-18T21:36:55.144301Z",
     "shell.execute_reply.started": "2025-06-18T21:36:55.123311Z"
    }
   },
   "outputs": [],
   "source": [
    "from sagemaker.image_uris import retrieve\n",
    "\n",
    "image = retrieve(framework='xgboost', region='us-east-2', version='latest')\n"
   ]
  },
  {
   "cell_type": "code",
   "execution_count": 7,
   "id": "3a9ca9a6-9732-465c-9216-c553dfc12f4c",
   "metadata": {
    "execution": {
     "iopub.execute_input": "2025-06-18T21:36:55.145896Z",
     "iopub.status.busy": "2025-06-18T21:36:55.145560Z",
     "iopub.status.idle": "2025-06-18T21:36:55.148766Z",
     "shell.execute_reply": "2025-06-18T21:36:55.148313Z",
     "shell.execute_reply.started": "2025-06-18T21:36:55.145869Z"
    }
   },
   "outputs": [],
   "source": [
    "default_bucket_prefix = \"xgboostTest\""
   ]
  },
  {
   "cell_type": "code",
   "execution_count": 8,
   "id": "e85a91b5-4a68-43f4-b04a-991035cc35bf",
   "metadata": {
    "execution": {
     "iopub.execute_input": "2025-06-18T21:36:55.149919Z",
     "iopub.status.busy": "2025-06-18T21:36:55.149647Z",
     "iopub.status.idle": "2025-06-18T21:39:27.169972Z",
     "shell.execute_reply": "2025-06-18T21:39:27.169415Z",
     "shell.execute_reply.started": "2025-06-18T21:36:55.149892Z"
    }
   },
   "outputs": [
    {
     "data": {
      "text/html": [
       "<pre style=\"white-space:pre;overflow-x:auto;line-height:normal;font-family:Menlo,'DejaVu Sans Mono',consolas,'Courier New',monospace\"><span style=\"color: #7fbfbf; text-decoration-color: #7fbfbf\">[06/18/25 21:36:55] </span><span style=\"color: #0069ff; text-decoration-color: #0069ff; font-weight: bold\">INFO    </span> Creating training_job resource.                                     <a href=\"file:///opt/conda/lib/python3.12/site-packages/sagemaker_core/main/resources.py\" target=\"_blank\"><span style=\"color: #7f7f7f; text-decoration-color: #7f7f7f\">resources.py</span></a><span style=\"color: #7f7f7f; text-decoration-color: #7f7f7f\">:</span><a href=\"file:///opt/conda/lib/python3.12/site-packages/sagemaker_core/main/resources.py#28332\" target=\"_blank\"><span style=\"color: #7f7f7f; text-decoration-color: #7f7f7f\">28332</span></a>\n",
       "</pre>\n"
      ],
      "text/plain": [
       "\u001b[2;36m[06/18/25 21:36:55]\u001b[0m\u001b[2;36m \u001b[0m\u001b[1;38;2;0;105;255mINFO    \u001b[0m Creating training_job resource.                                     \u001b]8;id=631671;file:///opt/conda/lib/python3.12/site-packages/sagemaker_core/main/resources.py\u001b\\\u001b[2mresources.py\u001b[0m\u001b]8;;\u001b\\\u001b[2m:\u001b[0m\u001b]8;id=771984;file:///opt/conda/lib/python3.12/site-packages/sagemaker_core/main/resources.py#28332\u001b\\\u001b[2m28332\u001b[0m\u001b]8;;\u001b\\\n"
      ]
     },
     "metadata": {},
     "output_type": "display_data"
    },
    {
     "data": {
      "text/html": [
       "<pre style=\"white-space:pre;overflow-x:auto;line-height:normal;font-family:Menlo,'DejaVu Sans Mono',consolas,'Courier New',monospace\"><span style=\"color: #7fbfbf; text-decoration-color: #7fbfbf\">[06/18/25 21:36:55] </span><span style=\"color: #d7af00; text-decoration-color: #d7af00; font-weight: bold\">WARNING </span> No boto3 session provided. Creating a new session.                        <a href=\"file:///opt/conda/lib/python3.12/site-packages/sagemaker_core/main/utils.py\" target=\"_blank\"><span style=\"color: #7f7f7f; text-decoration-color: #7f7f7f\">utils.py</span></a><span style=\"color: #7f7f7f; text-decoration-color: #7f7f7f\">:</span><a href=\"file:///opt/conda/lib/python3.12/site-packages/sagemaker_core/main/utils.py#339\" target=\"_blank\"><span style=\"color: #7f7f7f; text-decoration-color: #7f7f7f\">339</span></a>\n",
       "</pre>\n"
      ],
      "text/plain": [
       "\u001b[2;36m[06/18/25 21:36:55]\u001b[0m\u001b[2;36m \u001b[0m\u001b[1;38;2;215;175;0mWARNING \u001b[0m No boto3 session provided. Creating a new session.                        \u001b]8;id=998937;file:///opt/conda/lib/python3.12/site-packages/sagemaker_core/main/utils.py\u001b\\\u001b[2mutils.py\u001b[0m\u001b]8;;\u001b\\\u001b[2m:\u001b[0m\u001b]8;id=26116;file:///opt/conda/lib/python3.12/site-packages/sagemaker_core/main/utils.py#339\u001b\\\u001b[2m339\u001b[0m\u001b]8;;\u001b\\\n"
      ]
     },
     "metadata": {},
     "output_type": "display_data"
    },
    {
     "data": {
      "text/html": [
       "<pre style=\"white-space:pre;overflow-x:auto;line-height:normal;font-family:Menlo,'DejaVu Sans Mono',consolas,'Courier New',monospace\"><span style=\"color: #7fbfbf; text-decoration-color: #7fbfbf\">                    </span><span style=\"color: #d7af00; text-decoration-color: #d7af00; font-weight: bold\">WARNING </span> No region provided. Using default region.                                 <a href=\"file:///opt/conda/lib/python3.12/site-packages/sagemaker_core/main/utils.py\" target=\"_blank\"><span style=\"color: #7f7f7f; text-decoration-color: #7f7f7f\">utils.py</span></a><span style=\"color: #7f7f7f; text-decoration-color: #7f7f7f\">:</span><a href=\"file:///opt/conda/lib/python3.12/site-packages/sagemaker_core/main/utils.py#343\" target=\"_blank\"><span style=\"color: #7f7f7f; text-decoration-color: #7f7f7f\">343</span></a>\n",
       "</pre>\n"
      ],
      "text/plain": [
       "\u001b[2;36m                   \u001b[0m\u001b[2;36m \u001b[0m\u001b[1;38;2;215;175;0mWARNING \u001b[0m No region provided. Using default region.                                 \u001b]8;id=675278;file:///opt/conda/lib/python3.12/site-packages/sagemaker_core/main/utils.py\u001b\\\u001b[2mutils.py\u001b[0m\u001b]8;;\u001b\\\u001b[2m:\u001b[0m\u001b]8;id=735127;file:///opt/conda/lib/python3.12/site-packages/sagemaker_core/main/utils.py#343\u001b\\\u001b[2m343\u001b[0m\u001b]8;;\u001b\\\n"
      ]
     },
     "metadata": {},
     "output_type": "display_data"
    },
    {
     "data": {
      "text/html": [
       "<pre style=\"white-space:pre;overflow-x:auto;line-height:normal;font-family:Menlo,'DejaVu Sans Mono',consolas,'Courier New',monospace\"><span style=\"color: #7fbfbf; text-decoration-color: #7fbfbf\">                    </span><span style=\"color: #d7af00; text-decoration-color: #d7af00; font-weight: bold\">WARNING </span> No config provided. Using default config.                                 <a href=\"file:///opt/conda/lib/python3.12/site-packages/sagemaker_core/main/utils.py\" target=\"_blank\"><span style=\"color: #7f7f7f; text-decoration-color: #7f7f7f\">utils.py</span></a><span style=\"color: #7f7f7f; text-decoration-color: #7f7f7f\">:</span><a href=\"file:///opt/conda/lib/python3.12/site-packages/sagemaker_core/main/utils.py#347\" target=\"_blank\"><span style=\"color: #7f7f7f; text-decoration-color: #7f7f7f\">347</span></a>\n",
       "</pre>\n"
      ],
      "text/plain": [
       "\u001b[2;36m                   \u001b[0m\u001b[2;36m \u001b[0m\u001b[1;38;2;215;175;0mWARNING \u001b[0m No config provided. Using default config.                                 \u001b]8;id=820401;file:///opt/conda/lib/python3.12/site-packages/sagemaker_core/main/utils.py\u001b\\\u001b[2mutils.py\u001b[0m\u001b]8;;\u001b\\\u001b[2m:\u001b[0m\u001b]8;id=254034;file:///opt/conda/lib/python3.12/site-packages/sagemaker_core/main/utils.py#347\u001b\\\u001b[2m347\u001b[0m\u001b]8;;\u001b\\\n"
      ]
     },
     "metadata": {},
     "output_type": "display_data"
    },
    {
     "data": {
      "application/vnd.jupyter.widget-view+json": {
       "model_id": "e8df3a4e2caf48fcbd8b82123f8ead71",
       "version_major": 2,
       "version_minor": 0
      },
      "text/plain": [
       "Output()"
      ]
     },
     "metadata": {},
     "output_type": "display_data"
    },
    {
     "data": {
      "text/html": [
       "<pre style=\"white-space:pre;overflow-x:auto;line-height:normal;font-family:Menlo,'DejaVu Sans Mono',consolas,'Courier New',monospace\"><span style=\"color: #7fbfbf; text-decoration-color: #7fbfbf\">[06/18/25 21:39:27] </span><span style=\"color: #0069ff; text-decoration-color: #0069ff; font-weight: bold\">INFO    </span> Final Resource Status: <span style=\"font-weight: bold\">Completed</span>                                    <a href=\"file:///opt/conda/lib/python3.12/site-packages/sagemaker_core/main/resources.py\" target=\"_blank\"><span style=\"color: #7f7f7f; text-decoration-color: #7f7f7f\">resources.py</span></a><span style=\"color: #7f7f7f; text-decoration-color: #7f7f7f\">:</span><a href=\"file:///opt/conda/lib/python3.12/site-packages/sagemaker_core/main/resources.py#28620\" target=\"_blank\"><span style=\"color: #7f7f7f; text-decoration-color: #7f7f7f\">28620</span></a>\n",
       "</pre>\n"
      ],
      "text/plain": [
       "\u001b[2;36m[06/18/25 21:39:27]\u001b[0m\u001b[2;36m \u001b[0m\u001b[1;38;2;0;105;255mINFO    \u001b[0m Final Resource Status: \u001b[1mCompleted\u001b[0m                                    \u001b]8;id=424463;file:///opt/conda/lib/python3.12/site-packages/sagemaker_core/main/resources.py\u001b\\\u001b[2mresources.py\u001b[0m\u001b]8;;\u001b\\\u001b[2m:\u001b[0m\u001b]8;id=75387;file:///opt/conda/lib/python3.12/site-packages/sagemaker_core/main/resources.py#28620\u001b\\\u001b[2m28620\u001b[0m\u001b]8;;\u001b\\\n"
      ]
     },
     "metadata": {},
     "output_type": "display_data"
    },
    {
     "data": {
      "text/html": [
       "<pre style=\"white-space:pre;overflow-x:auto;line-height:normal;font-family:Menlo,'DejaVu Sans Mono',consolas,'Courier New',monospace\"></pre>\n"
      ],
      "text/plain": []
     },
     "metadata": {},
     "output_type": "display_data"
    }
   ],
   "source": [
    "from sagemaker_core.resources import TrainingJob\n",
    "from sagemaker_core.shapes import (\n",
    "    AlgorithmSpecification,\n",
    "    Channel,\n",
    "    DataSource,\n",
    "    S3DataSource,\n",
    "    ResourceConfig,\n",
    "    StoppingCondition,\n",
    "    OutputDataConfig,\n",
    ")\n",
    "\n",
    "job_name = \"xgboost-churn-\" + time.strftime(\n",
    "    \"%Y-%m-%d-%H-%M-%S\", time.gmtime()\n",
    ")  # Name of training job\n",
    "instance_type = \"ml.m4.xlarge\"  # SageMaker instance type to use for training\n",
    "instance_count = 1  # Number of instances to use for training\n",
    "volume_size_in_gb = 30  # Amount of storage to allocate to training job\n",
    "max_runtime_in_seconds = 600  # Maximum runtimt. Job exits if it doesn't finish before this\n",
    "s3_output_path = f\"s3://{bucket}\"  # bucket and optional prefix where the training job stores output artifacts, like model artifact.\n",
    "\n",
    "# If a default bucket prefix is specified, append it to the s3 path\n",
    "if default_bucket_prefix:\n",
    "    s3_output_path = f\"s3://{bucket}/{default_bucket_prefix}\"\n",
    "\n",
    "# Specify hyperparameters\n",
    "hyper_parameters = {\n",
    "    \"max_depth\": \"5\",\n",
    "    \"eta\": \"0.2\",\n",
    "    \"gamma\": \"4\",\n",
    "    \"min_child_weight\": \"6\",\n",
    "    \"subsample\": \"0.8\",\n",
    "    \"verbosity\": \"0\",\n",
    "    \"objective\": \"binary:logistic\",\n",
    "    \"num_round\": \"100\",\n",
    "}\n",
    "\n",
    "# Create training job.\n",
    "training_job = TrainingJob.create(\n",
    "    training_job_name=job_name,\n",
    "    hyper_parameters=hyper_parameters,\n",
    "    algorithm_specification=AlgorithmSpecification(\n",
    "        training_image=image, training_input_mode=\"File\"\n",
    "    ),\n",
    "    role_arn=role,\n",
    "    input_data_config=[\n",
    "        Channel(\n",
    "            channel_name=\"train\",\n",
    "            content_type=\"csv\",\n",
    "            data_source=DataSource(\n",
    "                s3_data_source=S3DataSource(\n",
    "                    s3_data_type=\"S3Prefix\",\n",
    "                    s3_uri=s3_train_input,\n",
    "                    s3_data_distribution_type=\"FullyReplicated\",\n",
    "                )\n",
    "            ),\n",
    "        ),\n",
    "        Channel(\n",
    "            channel_name=\"validation\",\n",
    "            content_type=\"csv\",\n",
    "            data_source=DataSource(\n",
    "                s3_data_source=S3DataSource(\n",
    "                    s3_data_type=\"S3Prefix\",\n",
    "                    s3_uri=s3_validation_input,\n",
    "                    s3_data_distribution_type=\"FullyReplicated\",\n",
    "                )\n",
    "            ),\n",
    "        ),\n",
    "    ],\n",
    "    output_data_config=OutputDataConfig(s3_output_path=s3_output_path),\n",
    "    resource_config=ResourceConfig(\n",
    "        instance_type=instance_type,\n",
    "        instance_count=instance_count,\n",
    "        volume_size_in_gb=volume_size_in_gb,\n",
    "    ),\n",
    "    stopping_condition=StoppingCondition(max_runtime_in_seconds=max_runtime_in_seconds),\n",
    ")\n",
    "\n",
    "# Wait for the training job to complete\n",
    "training_job.wait()"
   ]
  },
  {
   "cell_type": "markdown",
   "id": "8db8e0b6-d000-453a-baf9-6b7c164d1caf",
   "metadata": {},
   "source": [
    "## Hyperparameter tuning\n",
    "If the optimal hyperparameters aren't known, we perform a SageMaker Hyperparameter Tuning job, which runs several training jobs and iteratively finds the best set of parameters.\n",
    "\n",
    "From a high level, a tuning job constists of 2 main components:\n",
    "- `HyperParameterTrainingJobDefinition`, which specifies details for each individidual training job, like image to use, input channels, resource configuration etc.\n",
    "- `HyperParameterTuningJobConfig`, which details the tuning configuration, like what strategy to use, how many jobs to run and what parameters to tune etc.\n",
    "\n",
    "You can find more information about how it works [here](https://docs.aws.amazon.com/sagemaker/latest/dg/automatic-model-tuning-how-it-works.html)."
   ]
  },
  {
   "cell_type": "code",
   "execution_count": 9,
   "id": "02419934-5cd4-4fda-9706-c852545e4ac6",
   "metadata": {
    "execution": {
     "iopub.execute_input": "2025-06-18T21:39:27.173198Z",
     "iopub.status.busy": "2025-06-18T21:39:27.172944Z",
     "iopub.status.idle": "2025-06-18T21:51:48.143792Z",
     "shell.execute_reply": "2025-06-18T21:51:48.143237Z",
     "shell.execute_reply.started": "2025-06-18T21:39:27.173170Z"
    }
   },
   "outputs": [
    {
     "data": {
      "text/html": [
       "<pre style=\"white-space:pre;overflow-x:auto;line-height:normal;font-family:Menlo,'DejaVu Sans Mono',consolas,'Courier New',monospace\"><span style=\"color: #7fbfbf; text-decoration-color: #7fbfbf\">                    </span><span style=\"color: #0069ff; text-decoration-color: #0069ff; font-weight: bold\">INFO    </span> Creating hyper_parameter_tuning_job resource.                       <a href=\"file:///opt/conda/lib/python3.12/site-packages/sagemaker_core/main/resources.py\" target=\"_blank\"><span style=\"color: #7f7f7f; text-decoration-color: #7f7f7f\">resources.py</span></a><span style=\"color: #7f7f7f; text-decoration-color: #7f7f7f\">:</span><a href=\"file:///opt/conda/lib/python3.12/site-packages/sagemaker_core/main/resources.py#13504\" target=\"_blank\"><span style=\"color: #7f7f7f; text-decoration-color: #7f7f7f\">13504</span></a>\n",
       "</pre>\n"
      ],
      "text/plain": [
       "\u001b[2;36m                   \u001b[0m\u001b[2;36m \u001b[0m\u001b[1;38;2;0;105;255mINFO    \u001b[0m Creating hyper_parameter_tuning_job resource.                       \u001b]8;id=904931;file:///opt/conda/lib/python3.12/site-packages/sagemaker_core/main/resources.py\u001b\\\u001b[2mresources.py\u001b[0m\u001b]8;;\u001b\\\u001b[2m:\u001b[0m\u001b]8;id=585596;file:///opt/conda/lib/python3.12/site-packages/sagemaker_core/main/resources.py#13504\u001b\\\u001b[2m13504\u001b[0m\u001b]8;;\u001b\\\n"
      ]
     },
     "metadata": {},
     "output_type": "display_data"
    },
    {
     "data": {
      "application/vnd.jupyter.widget-view+json": {
       "model_id": "5078a97126f64f4ca4c003d7eec4b39d",
       "version_major": 2,
       "version_minor": 0
      },
      "text/plain": [
       "Output()"
      ]
     },
     "metadata": {},
     "output_type": "display_data"
    },
    {
     "data": {
      "text/html": [
       "<pre style=\"white-space:pre;overflow-x:auto;line-height:normal;font-family:Menlo,'DejaVu Sans Mono',consolas,'Courier New',monospace\"><span style=\"color: #7fbfbf; text-decoration-color: #7fbfbf\">[06/18/25 21:51:48] </span><span style=\"color: #0069ff; text-decoration-color: #0069ff; font-weight: bold\">INFO    </span> Final Resource Status: <span style=\"font-weight: bold\">Completed</span>                                    <a href=\"file:///opt/conda/lib/python3.12/site-packages/sagemaker_core/main/resources.py\" target=\"_blank\"><span style=\"color: #7f7f7f; text-decoration-color: #7f7f7f\">resources.py</span></a><span style=\"color: #7f7f7f; text-decoration-color: #7f7f7f\">:</span><a href=\"file:///opt/conda/lib/python3.12/site-packages/sagemaker_core/main/resources.py#13733\" target=\"_blank\"><span style=\"color: #7f7f7f; text-decoration-color: #7f7f7f\">13733</span></a>\n",
       "</pre>\n"
      ],
      "text/plain": [
       "\u001b[2;36m[06/18/25 21:51:48]\u001b[0m\u001b[2;36m \u001b[0m\u001b[1;38;2;0;105;255mINFO    \u001b[0m Final Resource Status: \u001b[1mCompleted\u001b[0m                                    \u001b]8;id=19076;file:///opt/conda/lib/python3.12/site-packages/sagemaker_core/main/resources.py\u001b\\\u001b[2mresources.py\u001b[0m\u001b]8;;\u001b\\\u001b[2m:\u001b[0m\u001b]8;id=840130;file:///opt/conda/lib/python3.12/site-packages/sagemaker_core/main/resources.py#13733\u001b\\\u001b[2m13733\u001b[0m\u001b]8;;\u001b\\\n"
      ]
     },
     "metadata": {},
     "output_type": "display_data"
    },
    {
     "data": {
      "text/html": [
       "<pre style=\"white-space:pre;overflow-x:auto;line-height:normal;font-family:Menlo,'DejaVu Sans Mono',consolas,'Courier New',monospace\"></pre>\n"
      ],
      "text/plain": []
     },
     "metadata": {},
     "output_type": "display_data"
    }
   ],
   "source": [
    "from sagemaker_core.resources import HyperParameterTuningJob\n",
    "from sagemaker_core.shapes import (\n",
    "    HyperParameterTuningJobConfig,\n",
    "    ResourceLimits,\n",
    "    ParameterRanges,\n",
    "    AutoParameter,\n",
    "    Autotune,\n",
    "    HyperParameterTrainingJobDefinition,\n",
    "    HyperParameterTuningJobObjective,\n",
    "    HyperParameterAlgorithmSpecification,\n",
    "    OutputDataConfig,\n",
    "    StoppingCondition,\n",
    "    ResourceConfig,\n",
    ")\n",
    "\n",
    "tuning_job_name = \"xgboost-tune-\" + time.strftime(\n",
    "    \"%Y-%m-%d-%H-%M-%S\", time.gmtime()\n",
    ")  # Name of tuning job\n",
    "\n",
    "max_number_of_training_jobs = (\n",
    "    50  # Maximum number of training jobs to run as part of the tuning job.\n",
    ")\n",
    "max_parallel_training_jobs = 5  # Maximum number of parallell training.\n",
    "max_runtime_in_seconds = 3600  # Maximum runtime for tuning job.\n",
    "\n",
    "# Create HyperParameterTrainingJobDefinition object, containing information about each individual training job.\n",
    "hyper_parameter_training_job_defintion = HyperParameterTrainingJobDefinition(\n",
    "    role_arn=role,\n",
    "    algorithm_specification=HyperParameterAlgorithmSpecification(\n",
    "        training_image=image, training_input_mode=\"File\"\n",
    "    ),\n",
    "    input_data_config=[\n",
    "        Channel(\n",
    "            channel_name=\"train\",\n",
    "            content_type=\"csv\",\n",
    "            data_source=DataSource(\n",
    "                s3_data_source=S3DataSource(\n",
    "                    s3_data_type=\"S3Prefix\",\n",
    "                    s3_uri=s3_train_input,\n",
    "                    s3_data_distribution_type=\"FullyReplicated\",\n",
    "                )\n",
    "            ),\n",
    "        ),\n",
    "        Channel(\n",
    "            channel_name=\"validation\",\n",
    "            content_type=\"csv\",\n",
    "            data_source=DataSource(\n",
    "                s3_data_source=S3DataSource(\n",
    "                    s3_data_type=\"S3Prefix\",\n",
    "                    s3_uri=s3_validation_input,\n",
    "                    s3_data_distribution_type=\"FullyReplicated\",\n",
    "                )\n",
    "            ),\n",
    "        ),\n",
    "    ],\n",
    "    output_data_config=OutputDataConfig(s3_output_path=s3_output_path),\n",
    "    stopping_condition=StoppingCondition(max_runtime_in_seconds=max_runtime_in_seconds),\n",
    "    resource_config=ResourceConfig(\n",
    "        instance_type=instance_type,\n",
    "        instance_count=instance_count,\n",
    "        volume_size_in_gb=volume_size_in_gb,\n",
    "    ),\n",
    ")\n",
    "\n",
    "# Create HyperParameterTrainingJobDefinition object, containing information about the tuning job\n",
    "tuning_job_config = HyperParameterTuningJobConfig(\n",
    "    strategy=\"Bayesian\",\n",
    "    hyper_parameter_tuning_job_objective=HyperParameterTuningJobObjective(\n",
    "        type=\"Maximize\", metric_name=\"validation:auc\"\n",
    "    ),\n",
    "    resource_limits=ResourceLimits(\n",
    "        max_number_of_training_jobs=max_number_of_training_jobs,\n",
    "        max_parallel_training_jobs=max_parallel_training_jobs,\n",
    "        max_runtime_in_seconds=3600,\n",
    "    ),\n",
    "    training_job_early_stopping_type=\"Auto\",\n",
    "    parameter_ranges=ParameterRanges(\n",
    "        auto_parameters=[\n",
    "            AutoParameter(name=\"max_depth\", value_hint=\"5\"),\n",
    "            AutoParameter(name=\"eta\", value_hint=\"0.1\"),\n",
    "            AutoParameter(name=\"gamma\", value_hint=\"8\"),\n",
    "            AutoParameter(name=\"min_child_weight\", value_hint=\"2\"),\n",
    "            AutoParameter(name=\"subsample\", value_hint=\"0.5\"),\n",
    "            AutoParameter(name=\"num_round\", value_hint=\"50\"),\n",
    "        ]\n",
    "    ),\n",
    ")\n",
    "\n",
    "# Create the tuning job using the 2 configuration objects above\n",
    "tuning_job = HyperParameterTuningJob.create(\n",
    "    hyper_parameter_tuning_job_name=tuning_job_name,\n",
    "    autotune=Autotune(mode=\"Enabled\"),\n",
    "    training_job_definition=hyper_parameter_training_job_defintion,\n",
    "    hyper_parameter_tuning_job_config=tuning_job_config,\n",
    ")\n",
    "\n",
    "tuning_job.wait()"
   ]
  },
  {
   "cell_type": "markdown",
   "id": "b79e6746-6a03-4868-a22e-63a32bfcf599",
   "metadata": {},
   "source": [
    "## Use model artifacts for batch inference\n",
    "To use the model to perform batch inference, we can use a SageMaker Batch Transform job. The Transform Job requires a SageMaker model object, which contains information about what image and model to use.\n",
    "\n",
    "Below, we:\n",
    "1. Create a SageMaker model with the same first-party image as we used for training, and the model artifacts produced during training. Indeed, such image can also be used to run inference\n",
    "2. Use that SagMaker model with a Transform Job to perform batch inference with our test dataset\n",
    "3. Compute some performance metrics\n",
    "\n",
    "More information about SageMaker Batch Transform can be found [here](https://docs.aws.amazon.com/sagemaker/latest/dg/batch-transform.html)."
   ]
  },
  {
   "cell_type": "markdown",
   "id": "82b0db2b-4daf-4ee0-a035-b7108f3d7912",
   "metadata": {},
   "source": [
    "#### Create SageMaker Model\n",
    "\n",
    "Create a Model resource based on the model artifacts produced by the best training job run by through hyperparameter tuning. "
   ]
  },
  {
   "cell_type": "code",
   "execution_count": 10,
   "id": "be7b7d4f-3768-49d5-8244-f0eaebc787e1",
   "metadata": {
    "execution": {
     "iopub.execute_input": "2025-06-18T21:51:48.149320Z",
     "iopub.status.busy": "2025-06-18T21:51:48.148784Z",
     "iopub.status.idle": "2025-06-18T21:51:48.153364Z",
     "shell.execute_reply": "2025-06-18T21:51:48.152868Z",
     "shell.execute_reply.started": "2025-06-18T21:51:48.149301Z"
    }
   },
   "outputs": [
    {
     "data": {
      "text/plain": [
       "'xgboost-tune-2025-06-18-21-39-27-037-bf1a5a94'"
      ]
     },
     "execution_count": 10,
     "metadata": {},
     "output_type": "execute_result"
    }
   ],
   "source": [
    "tuning_job.best_training_job.training_job_name"
   ]
  },
  {
   "cell_type": "code",
   "execution_count": 11,
   "id": "270aa263-2a8f-4225-bcd6-56a57195ac63",
   "metadata": {
    "execution": {
     "iopub.execute_input": "2025-06-18T21:51:48.154524Z",
     "iopub.status.busy": "2025-06-18T21:51:48.154043Z",
     "iopub.status.idle": "2025-06-18T21:51:49.037827Z",
     "shell.execute_reply": "2025-06-18T21:51:49.037253Z",
     "shell.execute_reply.started": "2025-06-18T21:51:48.154486Z"
    },
    "scrolled": true
   },
   "outputs": [
    {
     "data": {
      "text/html": [
       "<pre style=\"white-space:pre;overflow-x:auto;line-height:normal;font-family:Menlo,'DejaVu Sans Mono',consolas,'Courier New',monospace\"><span style=\"color: #7fbfbf; text-decoration-color: #7fbfbf\">                    </span><span style=\"color: #0069ff; text-decoration-color: #0069ff; font-weight: bold\">INFO    </span> Creating model resource.                                            <a href=\"file:///opt/conda/lib/python3.12/site-packages/sagemaker_core/main/resources.py\" target=\"_blank\"><span style=\"color: #7f7f7f; text-decoration-color: #7f7f7f\">resources.py</span></a><span style=\"color: #7f7f7f; text-decoration-color: #7f7f7f\">:</span><a href=\"file:///opt/conda/lib/python3.12/site-packages/sagemaker_core/main/resources.py#18047\" target=\"_blank\"><span style=\"color: #7f7f7f; text-decoration-color: #7f7f7f\">18047</span></a>\n",
       "</pre>\n"
      ],
      "text/plain": [
       "\u001b[2;36m                   \u001b[0m\u001b[2;36m \u001b[0m\u001b[1;38;2;0;105;255mINFO    \u001b[0m Creating model resource.                                            \u001b]8;id=374102;file:///opt/conda/lib/python3.12/site-packages/sagemaker_core/main/resources.py\u001b\\\u001b[2mresources.py\u001b[0m\u001b]8;;\u001b\\\u001b[2m:\u001b[0m\u001b]8;id=99892;file:///opt/conda/lib/python3.12/site-packages/sagemaker_core/main/resources.py#18047\u001b\\\u001b[2m18047\u001b[0m\u001b]8;;\u001b\\\n"
      ]
     },
     "metadata": {},
     "output_type": "display_data"
    }
   ],
   "source": [
    "from sagemaker_core.resources import Model\n",
    "from sagemaker_core.shapes import ContainerDefinition\n",
    "import boto3\n",
    "\n",
    "# model_s3_uri = training_job.model_artifacts.s3_model_artifacts  # Get URI of model artifacts from the training job.\n",
    "model_s3_uri = TrainingJob.get(\n",
    "    tuning_job.best_training_job.training_job_name\n",
    ").model_artifacts.s3_model_artifacts  # Get URI of model artifacts of the best model from the tuning job.\n",
    "\n",
    "client = boto3.client(\"sagemaker\")\n",
    "\n",
    "model_name = \"customer-churn-xgboost\"\n",
    "customer_churn_model=None\n",
    "try:\n",
    "    response = client.describe_model(ModelName=model_name)\n",
    "    print(f\"Model '{model_name}' exists.\")\n",
    "    customer_churn_model=Model.get(model_name)\n",
    "except: \n",
    "    # Create SageMaker model: An image along with the model artifact to use if it doesnt exist.\n",
    "    customer_churn_model = Model.create(\n",
    "        model_name=model_name,\n",
    "        primary_container=ContainerDefinition(image=image, model_data_url=model_s3_uri),\n",
    "        execution_role_arn=role,\n",
    "    )\n",
    "    model_name = customer_churn_model.get_name()"
   ]
  },
  {
   "cell_type": "markdown",
   "id": "7151c8e0-c0d8-49c9-9bda-28d0fe816b59",
   "metadata": {},
   "source": [
    "#### Create Transform Job"
   ]
  },
  {
   "cell_type": "code",
   "execution_count": 12,
   "id": "53b491ec-1eb3-4339-8ed4-f21450f60c1e",
   "metadata": {
    "execution": {
     "iopub.execute_input": "2025-06-18T21:51:49.042118Z",
     "iopub.status.busy": "2025-06-18T21:51:49.041925Z",
     "iopub.status.idle": "2025-06-18T21:51:49.045717Z",
     "shell.execute_reply": "2025-06-18T21:51:49.045203Z",
     "shell.execute_reply.started": "2025-06-18T21:51:49.042099Z"
    }
   },
   "outputs": [],
   "source": [
    "import boto3\n",
    "import re\n",
    "def isQuotaPresent():\n",
    "    client = boto3.client(\"service-quotas\")\n",
    "    pattern = re.compile(r\"\\btransformjob\\b.*\\bml.m4.xlarge\\b|\\bml.m4.xlarge\\b.*\\btransformjob\\b\", re.IGNORECASE)\n",
    "    response = client.list_service_quotas(ServiceCode=\"sagemaker\")\n",
    "    \n",
    "    matching_quotas=[quota for quota in response[\"Quotas\"] if pattern.search(quota['QuotaName'])]\n",
    "    return len(matching_quotas)>0"
   ]
  },
  {
   "cell_type": "code",
   "execution_count": 13,
   "id": "b20dcca4-0eb4-4992-94c9-9651d175e01f",
   "metadata": {
    "execution": {
     "iopub.execute_input": "2025-06-18T21:51:49.046573Z",
     "iopub.status.busy": "2025-06-18T21:51:49.046298Z",
     "iopub.status.idle": "2025-06-18T21:51:49.051015Z",
     "shell.execute_reply": "2025-06-18T21:51:49.050524Z",
     "shell.execute_reply.started": "2025-06-18T21:51:49.046549Z"
    }
   },
   "outputs": [],
   "source": [
    "from sklearn.metrics import accuracy_score, precision_score, recall_score, roc_auc_score\n",
    "def split_s3_path(s3_path):\n",
    "    \"\"\"Lightweight method for extracting bucket and object key from S3 uri\"\"\"\n",
    "    path_parts = s3_path.replace(\"s3://\", \"\").split(\"/\")\n",
    "    bucket = path_parts.pop(0)\n",
    "    key = \"/\".join(path_parts)\n",
    "    return bucket, key\n",
    "\n",
    "\n",
    "def print_performance_metrics(probs, y, threshold=0.5):\n",
    "    \"\"\"Lightweight method for printing performance metrics\"\"\"\n",
    "\n",
    "    predictions = (probs >= threshold).astype(int)\n",
    "\n",
    "    # Compare predictions with the stored target\n",
    "    accuracy = accuracy_score(y, predictions)\n",
    "    precision = precision_score(y, predictions)\n",
    "    recall = recall_score(y, predictions)\n",
    "    roc_auc = roc_auc_score(y, probs)\n",
    "\n",
    "    print(f\"Accuracy: {accuracy}\")\n",
    "    print(f\"Precision: {precision}\")\n",
    "    print(f\"Recall: {recall}\")\n",
    "    print(f\"ROC AUC: {roc_auc}\")\n"
   ]
  },
  {
   "cell_type": "code",
   "execution_count": 14,
   "id": "d15f53e5-8cc4-487b-bd64-fe8efff11517",
   "metadata": {
    "execution": {
     "iopub.execute_input": "2025-06-18T21:51:49.051874Z",
     "iopub.status.busy": "2025-06-18T21:51:49.051662Z",
     "iopub.status.idle": "2025-06-18T21:51:49.154126Z",
     "shell.execute_reply": "2025-06-18T21:51:49.153498Z",
     "shell.execute_reply.started": "2025-06-18T21:51:49.051854Z"
    }
   },
   "outputs": [],
   "source": [
    "from sagemaker_core.resources import TransformJob\n",
    "from sagemaker_core.shapes import (\n",
    "    TransformInput,\n",
    "    TransformDataSource,\n",
    "    TransformS3DataSource,\n",
    "    TransformOutput,\n",
    "    TransformResources,\n",
    ")\n",
    "hasQuota=isQuotaPresent()\n",
    "if(hasQuota):\n",
    "    transform_job_name = \"churn-prediction\" + time.strftime(\n",
    "        \"%Y-%m-%d-%H-%M-%S\", time.gmtime()\n",
    "    )  # Name of TranformJob\n",
    "    s3_output_path = f\"s3://{bucket}/transform\"  # bucket and optional prefix where the TranformJob stores the result.\n",
    "    \n",
    "    # If a default bucket prefix is specified, append it to the s3 path\n",
    "    if default_bucket_prefix:\n",
    "        s3_output_path = f\"s3://{bucket}/{default_bucket_prefix}/transform\"\n",
    "    \n",
    "    instance_type = \"ml.m4.xlarge\"  # SageMaker instance type to use for TranformJob\n",
    "    instance_count = 1  # Number of instances to use for TranformJob\n",
    "    \n",
    "    # Create Transform Job.\n",
    "    transform_job = TransformJob.create(\n",
    "        transform_job_name=transform_job_name,\n",
    "        model_name=model_name,\n",
    "        transform_input=TransformInput(\n",
    "            data_source=TransformDataSource(\n",
    "                s3_data_source=TransformS3DataSource(s3_data_type=\"S3Prefix\", s3_uri=s3_test_input)\n",
    "            ),\n",
    "            content_type=\"text/csv\",\n",
    "        ),\n",
    "        transform_output=TransformOutput(s3_output_path=s3_output_path),\n",
    "        transform_resources=TransformResources(\n",
    "            instance_type=instance_type, instance_count=instance_count\n",
    "        ),\n",
    "    )\n",
    "    \n",
    "    transform_job.wait()"
   ]
  },
  {
   "cell_type": "markdown",
   "id": "5eca0ceb-b23b-4d72-9d39-dc1a295af068",
   "metadata": {},
   "source": [
    "#### Compute performance metrics"
   ]
  },
  {
   "cell_type": "code",
   "execution_count": 15,
   "id": "2b55cb28-ed28-4a96-b96e-05ac8944f1b0",
   "metadata": {
    "execution": {
     "iopub.execute_input": "2025-06-18T21:51:49.157519Z",
     "iopub.status.busy": "2025-06-18T21:51:49.156959Z",
     "iopub.status.idle": "2025-06-18T21:51:49.161501Z",
     "shell.execute_reply": "2025-06-18T21:51:49.160999Z",
     "shell.execute_reply.started": "2025-06-18T21:51:49.157500Z"
    }
   },
   "outputs": [],
   "source": [
    "# A Transform Job uploads the results to a given output path in S3, with the name of the input file, with \".out\" added at the end.\n",
    "if(hasQuota):\n",
    "    output_file_name = (\n",
    "        transform_job.transform_input.data_source.s3_data_source.s3_uri.split(\"/\")[-1] + \".out\"\n",
    "    )  # Get output file name\n",
    "    output_s3_uri = (\n",
    "        f\"{transform_job.transform_output.s3_output_path}/{output_file_name}\"  # Create output S3 URI\n",
    "    )\n",
    "    \n",
    "    # If a default bucket prefix is specified, append it to the s3 path\n",
    "    if default_bucket_prefix:\n",
    "        output_s3_uri = f\"{default_bucket_prefix}/{output_s3_uri}\"\n",
    "    # Extract bucket and key separately from uri\n",
    "    res_bucket, res_key = split_s3_path(output_s3_uri)\n",
    "    \n",
    "    # Download Transform Job results\n",
    "    transform_job_result = sagemaker_session.read_s3_file(res_bucket, res_key)\n",
    "    transform_job_result = pd.read_csv(StringIO(transform_job_result), header=None)\n",
    "    \n",
    "    print_performance_metrics(transform_job_result, test_target_column)"
   ]
  },
  {
   "cell_type": "markdown",
   "id": "abfe8ade-8de6-487a-9b24-a2afbeaa8559",
   "metadata": {},
   "source": [
    "## Create SageMaker endpoint for real-time inference\n",
    "To create a SageMaker endpoint we first create an `EndpointConfig`. The endpoint configuration specifies what SageMaker model to use, and what endpoint type. We then use the `EndpointConfig` together with other optional parameters to create a SageMaker Endpoint.\n",
    "\n",
    "More information about SageMaker Endpoints can be found [here](https://docs.aws.amazon.com/sagemaker/latest/dg/realtime-endpoints.html).\n"
   ]
  },
  {
   "cell_type": "code",
   "execution_count": 16,
   "id": "056e57bb-9edf-461e-97e8-40c9e5ebf39f",
   "metadata": {
    "execution": {
     "iopub.execute_input": "2025-06-18T21:51:49.164829Z",
     "iopub.status.busy": "2025-06-18T21:51:49.164559Z",
     "iopub.status.idle": "2025-06-18T21:51:49.645102Z",
     "shell.execute_reply": "2025-06-18T21:51:49.644603Z",
     "shell.execute_reply.started": "2025-06-18T21:51:49.164801Z"
    }
   },
   "outputs": [
    {
     "data": {
      "text/html": [
       "<pre style=\"white-space:pre;overflow-x:auto;line-height:normal;font-family:Menlo,'DejaVu Sans Mono',consolas,'Courier New',monospace\"><span style=\"color: #7fbfbf; text-decoration-color: #7fbfbf\">[06/18/25 21:51:49] </span><span style=\"color: #0069ff; text-decoration-color: #0069ff; font-weight: bold\">INFO    </span> Creating endpoint_config resource.                                   <a href=\"file:///opt/conda/lib/python3.12/site-packages/sagemaker_core/main/resources.py\" target=\"_blank\"><span style=\"color: #7f7f7f; text-decoration-color: #7f7f7f\">resources.py</span></a><span style=\"color: #7f7f7f; text-decoration-color: #7f7f7f\">:</span><a href=\"file:///opt/conda/lib/python3.12/site-packages/sagemaker_core/main/resources.py#9750\" target=\"_blank\"><span style=\"color: #7f7f7f; text-decoration-color: #7f7f7f\">9750</span></a>\n",
       "</pre>\n"
      ],
      "text/plain": [
       "\u001b[2;36m[06/18/25 21:51:49]\u001b[0m\u001b[2;36m \u001b[0m\u001b[1;38;2;0;105;255mINFO    \u001b[0m Creating endpoint_config resource.                                   \u001b]8;id=388254;file:///opt/conda/lib/python3.12/site-packages/sagemaker_core/main/resources.py\u001b\\\u001b[2mresources.py\u001b[0m\u001b]8;;\u001b\\\u001b[2m:\u001b[0m\u001b]8;id=801974;file:///opt/conda/lib/python3.12/site-packages/sagemaker_core/main/resources.py#9750\u001b\\\u001b[2m9750\u001b[0m\u001b]8;;\u001b\\\n"
      ]
     },
     "metadata": {},
     "output_type": "display_data"
    }
   ],
   "source": [
    "from sagemaker_core.resources import Endpoint, EndpointConfig\n",
    "from sagemaker_core.shapes import ProductionVariant\n",
    "import botocore\n",
    "\n",
    "endpoint_config_name = \"churn-prediction-endpoint-config\"  # Name of endpoint configuration\n",
    "#model_name = customer_churn_model.get_name()  # Get name of SageMaker model created in previous step\n",
    "endpoint_name = \"customer-churn-endpoint\"  # Name of SageMaker endpoint\n",
    "sagemaker_endpoint=None\n",
    "endpoint_config=None\n",
    "try:\n",
    "    client = boto3.client(\"sagemaker\")\n",
    "    response = client.describe_endpoint_config(EndpointConfigName=endpoint_config_name)\n",
    "    print(f\"Endpoint Configuration '{endpoint_config_name}' exists.\")\n",
    "    endpoint_config=EndpointConfig.get(endpoint_config_name)\n",
    "except :\n",
    "       \n",
    "    \n",
    "    endpoint_config = EndpointConfig.create(\n",
    "        endpoint_config_name=endpoint_config_name,\n",
    "        production_variants=[\n",
    "            ProductionVariant(\n",
    "                variant_name=\"AllTraffic\",\n",
    "                model_name=model_name,\n",
    "                instance_type=instance_type,\n",
    "                initial_instance_count=1,\n",
    "            )\n",
    "        ],\n",
    "    )\n",
    "\n",
    "    \n",
    "    "
   ]
  },
  {
   "cell_type": "markdown",
   "id": "fd718d54-65ee-4b67-8556-196246356a68",
   "metadata": {},
   "source": [
    "#### Test live endpoint - with one sample\n"
   ]
  },
  {
   "cell_type": "code",
   "execution_count": 17,
   "id": "e5a701fc-3cdb-4af2-b434-b80d057558f9",
   "metadata": {
    "execution": {
     "iopub.execute_input": "2025-06-18T21:51:49.648217Z",
     "iopub.status.busy": "2025-06-18T21:51:49.647936Z",
     "iopub.status.idle": "2025-06-18T21:51:50.157878Z",
     "shell.execute_reply": "2025-06-18T21:51:50.157376Z",
     "shell.execute_reply.started": "2025-06-18T21:51:49.648196Z"
    }
   },
   "outputs": [
    {
     "data": {
      "text/html": [
       "<pre style=\"white-space:pre;overflow-x:auto;line-height:normal;font-family:Menlo,'DejaVu Sans Mono',consolas,'Courier New',monospace\"><span style=\"color: #7fbfbf; text-decoration-color: #7fbfbf\">                    </span><span style=\"color: #0069ff; text-decoration-color: #0069ff; font-weight: bold\">INFO    </span> Creating endpoint resource.                                          <a href=\"file:///opt/conda/lib/python3.12/site-packages/sagemaker_core/main/resources.py\" target=\"_blank\"><span style=\"color: #7f7f7f; text-decoration-color: #7f7f7f\">resources.py</span></a><span style=\"color: #7f7f7f; text-decoration-color: #7f7f7f\">:</span><a href=\"file:///opt/conda/lib/python3.12/site-packages/sagemaker_core/main/resources.py#8931\" target=\"_blank\"><span style=\"color: #7f7f7f; text-decoration-color: #7f7f7f\">8931</span></a>\n",
       "</pre>\n"
      ],
      "text/plain": [
       "\u001b[2;36m                   \u001b[0m\u001b[2;36m \u001b[0m\u001b[1;38;2;0;105;255mINFO    \u001b[0m Creating endpoint resource.                                          \u001b]8;id=130193;file:///opt/conda/lib/python3.12/site-packages/sagemaker_core/main/resources.py\u001b\\\u001b[2mresources.py\u001b[0m\u001b]8;;\u001b\\\u001b[2m:\u001b[0m\u001b]8;id=728148;file:///opt/conda/lib/python3.12/site-packages/sagemaker_core/main/resources.py#8931\u001b\\\u001b[2m8931\u001b[0m\u001b]8;;\u001b\\\n"
      ]
     },
     "metadata": {},
     "output_type": "display_data"
    }
   ],
   "source": [
    "sagemaker_endpoint = Endpoint.create(\n",
    "        endpoint_name=endpoint_name,\n",
    "        endpoint_config_name=endpoint_config.get_name(),\n",
    "    )"
   ]
  },
  {
   "cell_type": "code",
   "execution_count": 18,
   "id": "c5bdd7d6-7528-4542-b131-145c387a43d5",
   "metadata": {
    "execution": {
     "iopub.execute_input": "2025-06-18T21:51:50.158800Z",
     "iopub.status.busy": "2025-06-18T21:51:50.158542Z",
     "iopub.status.idle": "2025-06-18T21:55:23.150275Z",
     "shell.execute_reply": "2025-06-18T21:55:23.149749Z",
     "shell.execute_reply.started": "2025-06-18T21:51:50.158781Z"
    }
   },
   "outputs": [
    {
     "data": {
      "application/vnd.jupyter.widget-view+json": {
       "model_id": "7456b6ccf34e4c64b50a4f15d3b13711",
       "version_major": 2,
       "version_minor": 0
      },
      "text/plain": [
       "Output()"
      ]
     },
     "metadata": {},
     "output_type": "display_data"
    },
    {
     "data": {
      "text/html": [
       "<pre style=\"white-space:pre;overflow-x:auto;line-height:normal;font-family:Menlo,'DejaVu Sans Mono',consolas,'Courier New',monospace\"><span style=\"color: #7fbfbf; text-decoration-color: #7fbfbf\">[06/18/25 21:55:23] </span><span style=\"color: #0069ff; text-decoration-color: #0069ff; font-weight: bold\">INFO    </span> Final Resource Status: <span style=\"font-weight: bold\">InService</span>                                     <a href=\"file:///opt/conda/lib/python3.12/site-packages/sagemaker_core/main/resources.py\" target=\"_blank\"><span style=\"color: #7f7f7f; text-decoration-color: #7f7f7f\">resources.py</span></a><span style=\"color: #7f7f7f; text-decoration-color: #7f7f7f\">:</span><a href=\"file:///opt/conda/lib/python3.12/site-packages/sagemaker_core/main/resources.py#9187\" target=\"_blank\"><span style=\"color: #7f7f7f; text-decoration-color: #7f7f7f\">9187</span></a>\n",
       "</pre>\n"
      ],
      "text/plain": [
       "\u001b[2;36m[06/18/25 21:55:23]\u001b[0m\u001b[2;36m \u001b[0m\u001b[1;38;2;0;105;255mINFO    \u001b[0m Final Resource Status: \u001b[1mInService\u001b[0m                                     \u001b]8;id=360499;file:///opt/conda/lib/python3.12/site-packages/sagemaker_core/main/resources.py\u001b\\\u001b[2mresources.py\u001b[0m\u001b]8;;\u001b\\\u001b[2m:\u001b[0m\u001b]8;id=556137;file:///opt/conda/lib/python3.12/site-packages/sagemaker_core/main/resources.py#9187\u001b\\\u001b[2m9187\u001b[0m\u001b]8;;\u001b\\\n"
      ]
     },
     "metadata": {},
     "output_type": "display_data"
    },
    {
     "data": {
      "text/html": [
       "<pre style=\"white-space:pre;overflow-x:auto;line-height:normal;font-family:Menlo,'DejaVu Sans Mono',consolas,'Courier New',monospace\"></pre>\n"
      ],
      "text/plain": []
     },
     "metadata": {},
     "output_type": "display_data"
    }
   ],
   "source": [
    "if(sagemaker_endpoint==None):\n",
    "    sagemaker_endpoint=Endpoint.get(endpoint_name)\n",
    "sagemaker_endpoint.wait_for_status(\n",
    "    target_status=\"InService\"\n",
    "    )  "
   ]
  },
  {
   "cell_type": "code",
   "execution_count": 19,
   "id": "3fdbd048-014f-418d-8d88-fc329afc7ee6",
   "metadata": {
    "execution": {
     "iopub.execute_input": "2025-06-18T21:55:23.151254Z",
     "iopub.status.busy": "2025-06-18T21:55:23.150987Z",
     "iopub.status.idle": "2025-06-18T21:55:23.301827Z",
     "shell.execute_reply": "2025-06-18T21:55:23.301218Z",
     "shell.execute_reply.started": "2025-06-18T21:55:23.151231Z"
    }
   },
   "outputs": [],
   "source": [
    "# Extract one sample payload and convert to string\n",
    "sample = test_data.sample(1)\n",
    "sample_payload = sample.to_csv(header=False, index=False).strip()\n",
    "\n",
    "# Send sample payload to live endpoint and parse response\n",
    "res = sagemaker_endpoint.invoke(body=sample_payload, content_type=\"text/csv\")"
   ]
  },
  {
   "cell_type": "code",
   "execution_count": 20,
   "id": "42812e05-55d9-4f6e-9980-52c9624eafb9",
   "metadata": {
    "execution": {
     "iopub.execute_input": "2025-06-18T21:55:23.302954Z",
     "iopub.status.busy": "2025-06-18T21:55:23.302614Z",
     "iopub.status.idle": "2025-06-18T21:55:23.307161Z",
     "shell.execute_reply": "2025-06-18T21:55:23.306670Z",
     "shell.execute_reply.started": "2025-06-18T21:55:23.302930Z"
    }
   },
   "outputs": [
    {
     "data": {
      "text/plain": [
       "'1.022994875907898'"
      ]
     },
     "execution_count": 20,
     "metadata": {},
     "output_type": "execute_result"
    }
   ],
   "source": [
    "response=res.body.read().decode(\"utf-8\") \n",
    "response"
   ]
  },
  {
   "cell_type": "code",
   "execution_count": 21,
   "id": "af66a37b-eeae-410f-85a0-c8dfd7559a4d",
   "metadata": {
    "execution": {
     "iopub.execute_input": "2025-06-18T21:55:23.308045Z",
     "iopub.status.busy": "2025-06-18T21:55:23.307819Z",
     "iopub.status.idle": "2025-06-18T21:55:23.427418Z",
     "shell.execute_reply": "2025-06-18T21:55:23.426828Z",
     "shell.execute_reply.started": "2025-06-18T21:55:23.308027Z"
    }
   },
   "outputs": [],
   "source": [
    "sample_payload = test_data.to_csv(header=False, index=False).strip()\n",
    "\n",
    "# Send sample payload to live endpoint and parse response\n",
    "res = sagemaker_endpoint.invoke(body=sample_payload, content_type=\"text/csv\") \n",
    "response=res.body.read().decode(\"utf-8\")     \n",
    "response1 = response.split(\",\")"
   ]
  },
  {
   "cell_type": "code",
   "execution_count": 22,
   "id": "b87b7a2e-7d0d-4b2c-a8eb-7badb8b849b3",
   "metadata": {
    "execution": {
     "iopub.execute_input": "2025-06-18T21:55:23.428355Z",
     "iopub.status.busy": "2025-06-18T21:55:23.428095Z",
     "iopub.status.idle": "2025-06-18T21:55:23.432013Z",
     "shell.execute_reply": "2025-06-18T21:55:23.431492Z",
     "shell.execute_reply.started": "2025-06-18T21:55:23.428336Z"
    }
   },
   "outputs": [],
   "source": [
    "df_result = pd.DataFrame(response1).astype(float)"
   ]
  },
  {
   "cell_type": "code",
   "execution_count": 23,
   "id": "c70465b1-9af5-43e7-a3d9-84b1dc6ecae8",
   "metadata": {
    "execution": {
     "iopub.execute_input": "2025-06-18T21:55:23.432814Z",
     "iopub.status.busy": "2025-06-18T21:55:23.432633Z",
     "iopub.status.idle": "2025-06-18T21:55:23.455612Z",
     "shell.execute_reply": "2025-06-18T21:55:23.454998Z",
     "shell.execute_reply.started": "2025-06-18T21:55:23.432797Z"
    }
   },
   "outputs": [
    {
     "name": "stdout",
     "output_type": "stream",
     "text": [
      "Accuracy: 0.9174311926605505\n",
      "Precision: 0.92\n",
      "Recall: 0.9166666666666666\n",
      "ROC AUC: 0.9642530036097194\n"
     ]
    }
   ],
   "source": [
    "print_performance_metrics(df_result, test_target_column)"
   ]
  },
  {
   "cell_type": "markdown",
   "id": "2ff78e4f-47cd-4f05-ba00-6ded32ad12a8",
   "metadata": {},
   "source": [
    "#### Test live endpoint - with entire test dataset"
   ]
  },
  {
   "cell_type": "markdown",
   "id": "0e9d3ad7-4b67-405e-940a-0331fd28811f",
   "metadata": {},
   "source": [
    "## Clean up"
   ]
  },
  {
   "cell_type": "code",
   "execution_count": 24,
   "id": "9fb90949-9b35-4e11-8d2a-6053beacb4ba",
   "metadata": {
    "execution": {
     "iopub.execute_input": "2025-06-18T21:55:23.460873Z",
     "iopub.status.busy": "2025-06-18T21:55:23.460592Z",
     "iopub.status.idle": "2025-06-18T21:55:23.854547Z",
     "shell.execute_reply": "2025-06-18T21:55:23.854030Z",
     "shell.execute_reply.started": "2025-06-18T21:55:23.460852Z"
    }
   },
   "outputs": [
    {
     "data": {
      "text/html": [
       "<pre style=\"white-space:pre;overflow-x:auto;line-height:normal;font-family:Menlo,'DejaVu Sans Mono',consolas,'Courier New',monospace\"><span style=\"color: #7fbfbf; text-decoration-color: #7fbfbf\">                    </span><span style=\"color: #0069ff; text-decoration-color: #0069ff; font-weight: bold\">INFO    </span> Deleting Endpoint - customer-churn-endpoint                          <a href=\"file:///opt/conda/lib/python3.12/site-packages/sagemaker_core/main/resources.py\" target=\"_blank\"><span style=\"color: #7f7f7f; text-decoration-color: #7f7f7f\">resources.py</span></a><span style=\"color: #7f7f7f; text-decoration-color: #7f7f7f\">:</span><a href=\"file:///opt/conda/lib/python3.12/site-packages/sagemaker_core/main/resources.py#9131\" target=\"_blank\"><span style=\"color: #7f7f7f; text-decoration-color: #7f7f7f\">9131</span></a>\n",
       "</pre>\n"
      ],
      "text/plain": [
       "\u001b[2;36m                   \u001b[0m\u001b[2;36m \u001b[0m\u001b[1;38;2;0;105;255mINFO    \u001b[0m Deleting Endpoint - customer-churn-endpoint                          \u001b]8;id=907173;file:///opt/conda/lib/python3.12/site-packages/sagemaker_core/main/resources.py\u001b\\\u001b[2mresources.py\u001b[0m\u001b]8;;\u001b\\\u001b[2m:\u001b[0m\u001b]8;id=53443;file:///opt/conda/lib/python3.12/site-packages/sagemaker_core/main/resources.py#9131\u001b\\\u001b[2m9131\u001b[0m\u001b]8;;\u001b\\\n"
      ]
     },
     "metadata": {},
     "output_type": "display_data"
    },
    {
     "data": {
      "text/html": [
       "<pre style=\"white-space:pre;overflow-x:auto;line-height:normal;font-family:Menlo,'DejaVu Sans Mono',consolas,'Courier New',monospace\"><span style=\"color: #7fbfbf; text-decoration-color: #7fbfbf\">                    </span><span style=\"color: #0069ff; text-decoration-color: #0069ff; font-weight: bold\">INFO    </span> Deleting EndpointConfig - churn-prediction-endpoint-config           <a href=\"file:///opt/conda/lib/python3.12/site-packages/sagemaker_core/main/resources.py\" target=\"_blank\"><span style=\"color: #7f7f7f; text-decoration-color: #7f7f7f\">resources.py</span></a><span style=\"color: #7f7f7f; text-decoration-color: #7f7f7f\">:</span><a href=\"file:///opt/conda/lib/python3.12/site-packages/sagemaker_core/main/resources.py#9900\" target=\"_blank\"><span style=\"color: #7f7f7f; text-decoration-color: #7f7f7f\">9900</span></a>\n",
       "</pre>\n"
      ],
      "text/plain": [
       "\u001b[2;36m                   \u001b[0m\u001b[2;36m \u001b[0m\u001b[1;38;2;0;105;255mINFO    \u001b[0m Deleting EndpointConfig - churn-prediction-endpoint-config           \u001b]8;id=732798;file:///opt/conda/lib/python3.12/site-packages/sagemaker_core/main/resources.py\u001b\\\u001b[2mresources.py\u001b[0m\u001b]8;;\u001b\\\u001b[2m:\u001b[0m\u001b]8;id=182233;file:///opt/conda/lib/python3.12/site-packages/sagemaker_core/main/resources.py#9900\u001b\\\u001b[2m9900\u001b[0m\u001b]8;;\u001b\\\n"
      ]
     },
     "metadata": {},
     "output_type": "display_data"
    },
    {
     "data": {
      "text/html": [
       "<pre style=\"white-space:pre;overflow-x:auto;line-height:normal;font-family:Menlo,'DejaVu Sans Mono',consolas,'Courier New',monospace\"><span style=\"color: #7fbfbf; text-decoration-color: #7fbfbf\">                    </span><span style=\"color: #0069ff; text-decoration-color: #0069ff; font-weight: bold\">INFO    </span> Deleting Model - customer-churn-xgboost                             <a href=\"file:///opt/conda/lib/python3.12/site-packages/sagemaker_core/main/resources.py\" target=\"_blank\"><span style=\"color: #7f7f7f; text-decoration-color: #7f7f7f\">resources.py</span></a><span style=\"color: #7f7f7f; text-decoration-color: #7f7f7f\">:</span><a href=\"file:///opt/conda/lib/python3.12/site-packages/sagemaker_core/main/resources.py#18194\" target=\"_blank\"><span style=\"color: #7f7f7f; text-decoration-color: #7f7f7f\">18194</span></a>\n",
       "</pre>\n"
      ],
      "text/plain": [
       "\u001b[2;36m                   \u001b[0m\u001b[2;36m \u001b[0m\u001b[1;38;2;0;105;255mINFO    \u001b[0m Deleting Model - customer-churn-xgboost                             \u001b]8;id=169507;file:///opt/conda/lib/python3.12/site-packages/sagemaker_core/main/resources.py\u001b\\\u001b[2mresources.py\u001b[0m\u001b]8;;\u001b\\\u001b[2m:\u001b[0m\u001b]8;id=719459;file:///opt/conda/lib/python3.12/site-packages/sagemaker_core/main/resources.py#18194\u001b\\\u001b[2m18194\u001b[0m\u001b]8;;\u001b\\\n"
      ]
     },
     "metadata": {},
     "output_type": "display_data"
    }
   ],
   "source": [
    "sagemaker_endpoint.delete()\n",
    "endpoint_config.delete()\n",
    "customer_churn_model.delete()"
   ]
  }
 ],
 "metadata": {
  "kernelspec": {
   "display_name": "Python 3 (ipykernel)",
   "language": "python",
   "name": "python3"
  },
  "language_info": {
   "codemirror_mode": {
    "name": "ipython",
    "version": 3
   },
   "file_extension": ".py",
   "mimetype": "text/x-python",
   "name": "python",
   "nbconvert_exporter": "python",
   "pygments_lexer": "ipython3",
   "version": "3.12.9"
  }
 },
 "nbformat": 4,
 "nbformat_minor": 5
}
